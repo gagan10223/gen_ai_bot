{
 "cells": [
  {
   "cell_type": "code",
   "execution_count": 30,
   "id": "c61a1fa7-a745-422a-8a2e-f46febb32637",
   "metadata": {},
   "outputs": [],
   "source": [
    "from datasets import load_dataset"
   ]
  },
  {
   "cell_type": "code",
   "execution_count": 65,
   "id": "9c4d0143-9254-4969-af34-0a3a5f64a5fc",
   "metadata": {},
   "outputs": [],
   "source": [
    "data = load_dataset('sms_spam',split=['train'])[0]"
   ]
  },
  {
   "cell_type": "code",
   "execution_count": 80,
   "id": "5e9d0051-b652-4b68-827b-b2506198bb25",
   "metadata": {},
   "outputs": [],
   "source": [
    "map = {'spam':1,'not':0}\n",
    "m = {0:'not',1:'spam'}"
   ]
  },
  {
   "cell_type": "code",
   "execution_count": 88,
   "id": "4be17ddb-1ec9-425f-b227-37a4b3c9a970",
   "metadata": {},
   "outputs": [],
   "source": [
    "def get_sms(data, nums, labels):\n",
    "    sms = \"\"\n",
    "    for num, entry in zip(nums, data.select(nums)):\n",
    "        if labels:\n",
    "            sms += f\"{entry['sms']} -> {m[entry['label']]}\\n\"  # Assuming 'm' is defined somewhere\n",
    "        else:\n",
    "            sms += f\"{entry['sms']}\\n\"\n",
    "    return sms\n"
   ]
  },
  {
   "cell_type": "code",
   "execution_count": 89,
   "id": "cf18e9b1-0925-4737-98bd-b8dcd4baf710",
   "metadata": {},
   "outputs": [
    {
     "data": {
      "text/plain": [
       "\"Go until jurong point, crazy.. Available only in bugis n great world la e buffet... Cine there got amore wat...\\n -> not\\nOk lar... Joking wif u oni...\\n -> not\\nFree entry in 2 a wkly comp to win FA Cup final tkts 21st May 2005. Text FA to 87121 to receive entry question(std txt rate)T&C's apply 08452810075over18's\\n -> spam\\n\""
      ]
     },
     "execution_count": 89,
     "metadata": {},
     "output_type": "execute_result"
    }
   ],
   "source": [
    "get_sms(data,range(3),True)"
   ]
  },
  {
   "cell_type": "code",
   "execution_count": null,
   "id": "1903ee68-a502-48c8-b567-f49e3e6550c2",
   "metadata": {},
   "outputs": [],
   "source": []
  },
  {
   "cell_type": "code",
   "execution_count": null,
   "id": "1355ca1e-8e01-49e3-9d7e-5028a27d6c09",
   "metadata": {},
   "outputs": [],
   "source": []
  }
 ],
 "metadata": {
  "kernelspec": {
   "display_name": "Python 3 (ipykernel)",
   "language": "python",
   "name": "python3"
  },
  "language_info": {
   "codemirror_mode": {
    "name": "ipython",
    "version": 3
   },
   "file_extension": ".py",
   "mimetype": "text/x-python",
   "name": "python",
   "nbconvert_exporter": "python",
   "pygments_lexer": "ipython3",
   "version": "3.11.5"
  }
 },
 "nbformat": 4,
 "nbformat_minor": 5
}
