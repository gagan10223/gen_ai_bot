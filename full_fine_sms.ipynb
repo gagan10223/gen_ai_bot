{
 "cells": [
  {
   "cell_type": "code",
   "execution_count": 1,
   "id": "e4a76712-241a-4e0f-9151-f703f7511aef",
   "metadata": {},
   "outputs": [],
   "source": [
    "from transformers import AutoModelForSequenceClassification,Trainer,AutoTokenizer,TrainingArguments"
   ]
  },
  {
   "cell_type": "code",
   "execution_count": 2,
   "id": "a8c19c31-85ba-4d17-8163-6921102d1b43",
   "metadata": {},
   "outputs": [],
   "source": [
    "from datasets import load_dataset"
   ]
  },
  {
   "cell_type": "code",
   "execution_count": 3,
   "id": "6f585478-29ca-48a1-9d2f-3f682c16e3be",
   "metadata": {},
   "outputs": [],
   "source": [
    "data = load_dataset('sms_spam',split='train').train_test_split(test_size=0.3,seed=23,shuffle=True)"
   ]
  },
  {
   "cell_type": "code",
   "execution_count": 4,
   "id": "382bdbf9-bb88-48b6-a556-51453a8b70d8",
   "metadata": {},
   "outputs": [],
   "source": [
    "tokenizer = AutoTokenizer.from_pretrained('distilbert-base-uncased')"
   ]
  },
  {
   "cell_type": "code",
   "execution_count": 5,
   "id": "0f63b441-8d50-4ae4-9183-4f950a952927",
   "metadata": {},
   "outputs": [],
   "source": [
    "splits= ['train','test']"
   ]
  },
  {
   "cell_type": "code",
   "execution_count": 7,
   "id": "a038add2-8237-4e97-8d58-21df30e0e660",
   "metadata": {},
   "outputs": [
    {
     "data": {
      "application/vnd.jupyter.widget-view+json": {
       "model_id": "d3d7ccfecae046a8a278703f0e17196e",
       "version_major": 2,
       "version_minor": 0
      },
      "text/plain": [
       "Map:   0%|          | 0/500 [00:00<?, ? examples/s]"
      ]
     },
     "metadata": {},
     "output_type": "display_data"
    },
    {
     "data": {
      "application/vnd.jupyter.widget-view+json": {
       "model_id": "6b79346a23aa476e98c21c0e16ef2bf0",
       "version_major": 2,
       "version_minor": 0
      },
      "text/plain": [
       "Map:   0%|          | 0/500 [00:00<?, ? examples/s]"
      ]
     },
     "metadata": {},
     "output_type": "display_data"
    }
   ],
   "source": [
    "tokened = {}\n",
    "for split in splits:\n",
    "    tokened[split] = data[split].select(range(500)).map(lambda x: tokenizer(x['sms']), batched=True)\n",
    "    "
   ]
  },
  {
   "cell_type": "code",
   "execution_count": 8,
   "id": "8dbe35c6-9997-422e-8582-56ee838fdad7",
   "metadata": {},
   "outputs": [
    {
     "name": "stderr",
     "output_type": "stream",
     "text": [
      "Some weights of DistilBertForSequenceClassification were not initialized from the model checkpoint at distilbert-base-uncased and are newly initialized: ['classifier.bias', 'classifier.weight', 'pre_classifier.bias', 'pre_classifier.weight']\n",
      "You should probably TRAIN this model on a down-stream task to be able to use it for predictions and inference.\n"
     ]
    }
   ],
   "source": [
    "model = AutoModelForSequenceClassification.from_pretrained('distilbert-base-uncased', num_labels=2)"
   ]
  },
  {
   "cell_type": "code",
   "execution_count": 9,
   "id": "f6bc74fb-b411-4427-8119-4ed03f44ec7a",
   "metadata": {},
   "outputs": [],
   "source": [
    "for params in model.parameters():\n",
    "    params.requires_grad=True"
   ]
  },
  {
   "cell_type": "code",
   "execution_count": 15,
   "id": "6f28a79a-dcf6-4e46-a604-33c292eaca8a",
   "metadata": {},
   "outputs": [],
   "source": [
    "def compute(x):\n",
    "    preds, acts = x\n",
    "    return {'accuracy':(acts == preds).mean()}"
   ]
  },
  {
   "cell_type": "code",
   "execution_count": null,
   "id": "3ad026c3-0a9a-4080-aeaa-6fc836e1a032",
   "metadata": {},
   "outputs": [],
   "source": []
  },
  {
   "cell_type": "code",
   "execution_count": 16,
   "id": "fb0079e7-9676-4752-b686-58b87ebc5cb3",
   "metadata": {},
   "outputs": [
    {
     "name": "stderr",
     "output_type": "stream",
     "text": [
      "/home/gagandeep/miniconda3/lib/python3.11/site-packages/accelerate/accelerator.py:432: FutureWarning: Passing the following arguments to `Accelerator` is deprecated and will be removed in version 1.0 of Accelerate: dict_keys(['dispatch_batches', 'split_batches', 'even_batches', 'use_seedable_sampler']). Please pass an `accelerate.DataLoaderConfiguration` instead: \n",
      "dataloader_config = DataLoaderConfiguration(dispatch_batches=None, split_batches=False, even_batches=True, use_seedable_sampler=True)\n",
      "  warnings.warn(\n"
     ]
    }
   ],
   "source": [
    "trainer = Trainer(model=model,\n",
    "                  args=TrainingArguments(\n",
    "                      output_dir = './sms',\n",
    "                      learning_rate=2e-5,\n",
    "                      num_train_epochs=1,\n",
    "                      weight_decay=0.01),\n",
    "                  train_dataset=tokened['train'],\n",
    "                  eval_dataset=tokened['test'],\n",
    "                  tokenizer=tokenizer,\n",
    "                  )"
   ]
  },
  {
   "cell_type": "code",
   "execution_count": 17,
   "id": "d72dc40c-9f40-4b24-87a7-e2a39fe0530f",
   "metadata": {},
   "outputs": [
    {
     "data": {
      "text/html": [
       "\n",
       "    <div>\n",
       "      \n",
       "      <progress value='63' max='63' style='width:300px; height:20px; vertical-align: middle;'></progress>\n",
       "      [63/63 01:31, Epoch 1/1]\n",
       "    </div>\n",
       "    <table border=\"1\" class=\"dataframe\">\n",
       "  <thead>\n",
       " <tr style=\"text-align: left;\">\n",
       "      <th>Step</th>\n",
       "      <th>Training Loss</th>\n",
       "    </tr>\n",
       "  </thead>\n",
       "  <tbody>\n",
       "  </tbody>\n",
       "</table><p>"
      ],
      "text/plain": [
       "<IPython.core.display.HTML object>"
      ]
     },
     "metadata": {},
     "output_type": "display_data"
    },
    {
     "data": {
      "text/plain": [
       "TrainOutput(global_step=63, training_loss=0.07640096119471959, metrics={'train_runtime': 93.22, 'train_samples_per_second': 5.364, 'train_steps_per_second': 0.676, 'total_flos': 6728929891104.0, 'train_loss': 0.07640096119471959, 'epoch': 1.0})"
      ]
     },
     "execution_count": 17,
     "metadata": {},
     "output_type": "execute_result"
    }
   ],
   "source": [
    "trainer.train()"
   ]
  },
  {
   "cell_type": "code",
   "execution_count": 18,
   "id": "bc5964fe-60ae-4225-8f5f-8e31796656c5",
   "metadata": {},
   "outputs": [
    {
     "data": {
      "text/html": [],
      "text/plain": [
       "<IPython.core.display.HTML object>"
      ]
     },
     "metadata": {},
     "output_type": "display_data"
    },
    {
     "data": {
      "text/plain": [
       "{'eval_loss': 0.0804712101817131,\n",
       " 'eval_runtime': 19.4635,\n",
       " 'eval_samples_per_second': 25.689,\n",
       " 'eval_steps_per_second': 3.237,\n",
       " 'epoch': 1.0}"
      ]
     },
     "execution_count": 18,
     "metadata": {},
     "output_type": "execute_result"
    }
   ],
   "source": [
    "trainer.evaluate()\n"
   ]
  },
  {
   "cell_type": "code",
   "execution_count": 52,
   "id": "562d72c4-bc20-47fb-90e2-c7991c0c93a0",
   "metadata": {},
   "outputs": [],
   "source": [
    "examples = [1,4,6,78,87,436,75]"
   ]
  },
  {
   "cell_type": "code",
   "execution_count": 19,
   "id": "9ec9fd40-f83a-4c10-9dde-cefd310e82ce",
   "metadata": {},
   "outputs": [],
   "source": [
    "data_e = trainer.predict(tokened['test'].select(range))"
   ]
  },
  {
   "cell_type": "code",
   "execution_count": 29,
   "id": "42c2c862-b4d1-4a22-9431-c1166aef570b",
   "metadata": {},
   "outputs": [
    {
     "data": {
      "text/plain": [
       "array([[ 2.5231953, -2.9942236],\n",
       "       [ 2.134394 , -2.411899 ],\n",
       "       [ 2.51499  , -2.8312001],\n",
       "       [ 2.525272 , -2.9664283],\n",
       "       [ 2.5847516, -2.927692 ]], dtype=float32)"
      ]
     },
     "execution_count": 29,
     "metadata": {},
     "output_type": "execute_result"
    }
   ],
   "source": [
    "data_e.predictions"
   ]
  },
  {
   "cell_type": "code",
   "execution_count": 30,
   "id": "7f765650-142d-44a8-8043-a4a0e65aaafb",
   "metadata": {},
   "outputs": [],
   "source": [
    "preds = data_e.predictions"
   ]
  },
  {
   "cell_type": "code",
   "execution_count": 42,
   "id": "566835c8-6fae-4b11-943d-948df93c81f0",
   "metadata": {},
   "outputs": [
    {
     "data": {
      "text/plain": [
       "array([2.5231953, 2.134394 , 2.51499  , 2.525272 , 2.5847516],\n",
       "      dtype=float32)"
      ]
     },
     "execution_count": 42,
     "metadata": {},
     "output_type": "execute_result"
    }
   ],
   "source": [
    "import numpy as np\n",
    "np.max(preds,axis=1)"
   ]
  },
  {
   "cell_type": "code",
   "execution_count": 36,
   "id": "69264918-86b6-4e62-ab69-0556ba6173d5",
   "metadata": {},
   "outputs": [
    {
     "data": {
      "text/plain": [
       "array([[ 2.5231953, -2.9942236],\n",
       "       [ 2.134394 , -2.411899 ],\n",
       "       [ 2.51499  , -2.8312001],\n",
       "       [ 2.525272 , -2.9664283],\n",
       "       [ 2.5847516, -2.927692 ]], dtype=float32)"
      ]
     },
     "execution_count": 36,
     "metadata": {},
     "output_type": "execute_result"
    }
   ],
   "source": [
    "preds"
   ]
  },
  {
   "cell_type": "code",
   "execution_count": 44,
   "id": "bb280487-820d-4907-82b8-7498fed12baf",
   "metadata": {},
   "outputs": [],
   "source": [
    "import pandas as pd"
   ]
  },
  {
   "cell_type": "code",
   "execution_count": 53,
   "id": "7ef0e098-be34-4187-97b3-6a8fbca2fc86",
   "metadata": {},
   "outputs": [
    {
     "data": {
      "text/html": [],
      "text/plain": [
       "<IPython.core.display.HTML object>"
      ]
     },
     "metadata": {},
     "output_type": "display_data"
    }
   ],
   "source": [
    "import pandas as pd\n",
    "\n",
    "# Assuming tokened['test'].select(examples) returns a list of tokenized examples\n",
    "# Assuming trainer is your model trainer\n",
    "# Assuming examples is defined elsewhere\n",
    "\n",
    "# Extracting 'sms' and 'label' from tokened['test'] examples\n",
    "sms_list = [x['sms'] for x in tokened['test'].select(examples)]\n",
    "label_list = [x['label'] for x in tokened['test'].select(examples)]\n",
    "\n",
    "# Making predictions using the trainer and extracting argmax\n",
    "preds = np.argmax(trainer.predict(tokened['test'].select(examples)).predictions, axis=1)\n",
    "\n",
    "# Creating DataFrame\n",
    "df = pd.DataFrame({'sms': sms_list,\n",
    "                   'labels': label_list,\n",
    "                   'preds': preds})\n"
   ]
  },
  {
   "cell_type": "code",
   "execution_count": 60,
   "id": "354e90ae-84a1-4696-821f-ad5d1e59b3ae",
   "metadata": {},
   "outputs": [
    {
     "data": {
      "text/plain": [
       "sms       Fuck babe ... I miss you already, you know ? C...\n",
       "labels                                                    0\n",
       "preds                                                     0\n",
       "Name: 3, dtype: object"
      ]
     },
     "execution_count": 60,
     "metadata": {},
     "output_type": "execute_result"
    }
   ],
   "source": [
    "df.iloc[3]"
   ]
  },
  {
   "cell_type": "code",
   "execution_count": null,
   "id": "af98f171-54cd-4246-bc49-e965fae9acfa",
   "metadata": {},
   "outputs": [],
   "source": []
  }
 ],
 "metadata": {
  "kernelspec": {
   "display_name": "Python 3 (ipykernel)",
   "language": "python",
   "name": "python3"
  },
  "language_info": {
   "codemirror_mode": {
    "name": "ipython",
    "version": 3
   },
   "file_extension": ".py",
   "mimetype": "text/x-python",
   "name": "python",
   "nbconvert_exporter": "python",
   "pygments_lexer": "ipython3",
   "version": "3.11.5"
  }
 },
 "nbformat": 4,
 "nbformat_minor": 5
}
